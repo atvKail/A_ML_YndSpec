{
 "cells": [
  {
   "cell_type": "code",
   "execution_count": 1,
   "metadata": {},
   "outputs": [
    {
     "name": "stdout",
     "output_type": "stream",
     "text": [
      "Downloading http://yann.lecun.com/exdb/mnist/train-images-idx3-ubyte.gz\n",
      "Downloading http://yann.lecun.com/exdb/mnist/train-images-idx3-ubyte.gz to ./data\\MNIST\\raw\\train-images-idx3-ubyte.gz\n"
     ]
    },
    {
     "name": "stderr",
     "output_type": "stream",
     "text": [
      "100%|██████████| 9912422/9912422 [00:14<00:00, 664111.05it/s] \n"
     ]
    },
    {
     "name": "stdout",
     "output_type": "stream",
     "text": [
      "Extracting ./data\\MNIST\\raw\\train-images-idx3-ubyte.gz to ./data\\MNIST\\raw\n",
      "\n",
      "Downloading http://yann.lecun.com/exdb/mnist/train-labels-idx1-ubyte.gz\n",
      "Downloading http://yann.lecun.com/exdb/mnist/train-labels-idx1-ubyte.gz to ./data\\MNIST\\raw\\train-labels-idx1-ubyte.gz\n"
     ]
    },
    {
     "name": "stderr",
     "output_type": "stream",
     "text": [
      "100%|██████████| 28881/28881 [00:00<00:00, 1129028.20it/s]\n"
     ]
    },
    {
     "name": "stdout",
     "output_type": "stream",
     "text": [
      "Extracting ./data\\MNIST\\raw\\train-labels-idx1-ubyte.gz to ./data\\MNIST\\raw\n",
      "\n",
      "Downloading http://yann.lecun.com/exdb/mnist/t10k-images-idx3-ubyte.gz\n",
      "Downloading http://yann.lecun.com/exdb/mnist/t10k-images-idx3-ubyte.gz to ./data\\MNIST\\raw\\t10k-images-idx3-ubyte.gz\n"
     ]
    },
    {
     "name": "stderr",
     "output_type": "stream",
     "text": [
      "100%|██████████| 1648877/1648877 [00:03<00:00, 538392.89it/s]\n"
     ]
    },
    {
     "name": "stdout",
     "output_type": "stream",
     "text": [
      "Extracting ./data\\MNIST\\raw\\t10k-images-idx3-ubyte.gz to ./data\\MNIST\\raw\n",
      "\n",
      "Downloading http://yann.lecun.com/exdb/mnist/t10k-labels-idx1-ubyte.gz\n",
      "Downloading http://yann.lecun.com/exdb/mnist/t10k-labels-idx1-ubyte.gz to ./data\\MNIST\\raw\\t10k-labels-idx1-ubyte.gz\n"
     ]
    },
    {
     "name": "stderr",
     "output_type": "stream",
     "text": [
      "100%|██████████| 4542/4542 [00:00<?, ?it/s]"
     ]
    },
    {
     "name": "stdout",
     "output_type": "stream",
     "text": [
      "Extracting ./data\\MNIST\\raw\\t10k-labels-idx1-ubyte.gz to ./data\\MNIST\\raw\n",
      "\n"
     ]
    },
    {
     "name": "stderr",
     "output_type": "stream",
     "text": [
      "\n"
     ]
    }
   ],
   "source": [
    "# Импорт необходимых библиотек\n",
    "import torch\n",
    "import torch.nn as nn\n",
    "import torch.optim as optim\n",
    "from torch.utils.data import DataLoader\n",
    "from torchvision.datasets import MNIST\n",
    "from torchvision.transforms import ToTensor\n",
    "from sklearn.metrics import accuracy_score, precision_score, recall_score, f1_score\n",
    "import matplotlib.pyplot as plt\n",
    "import numpy as np\n",
    "from tqdm import tqdm\n",
    "\n",
    "# Загрузка MNIST dataset\n",
    "train_dataset = MNIST(root=\"./data\", train=True, download=True, transform=ToTensor())\n",
    "test_dataset = MNIST(root=\"./data\", train=False, download=True, transform=ToTensor())\n"
   ]
  },
  {
   "cell_type": "code",
   "execution_count": 2,
   "metadata": {},
   "outputs": [
    {
     "name": "stdout",
     "output_type": "stream",
     "text": [
      "MNISTClassifier(\n",
      "  (flatten): Flatten(start_dim=1, end_dim=-1)\n",
      "  (fc1): Linear(in_features=784, out_features=128, bias=True)\n",
      "  (relu): ReLU()\n",
      "  (dropout): Dropout(p=0.2, inplace=False)\n",
      "  (fc2): Linear(in_features=128, out_features=10, bias=True)\n",
      "  (bn1): BatchNorm1d(128, eps=1e-05, momentum=0.1, affine=True, track_running_stats=True)\n",
      ")\n"
     ]
    }
   ],
   "source": [
    "# Определение модели нейронной сети\n",
    "class MNISTClassifier(nn.Module):\n",
    "    def __init__(self):\n",
    "        super(MNISTClassifier, self).__init__()\n",
    "        self.flatten = nn.Flatten()\n",
    "        self.fc1 = nn.Linear(28 * 28, 128)\n",
    "        self.relu = nn.ReLU()\n",
    "        self.dropout = nn.Dropout(0.2)\n",
    "        self.fc2 = nn.Linear(128, 10)\n",
    "        self.bn1 = nn.BatchNorm1d(128)\n",
    "\n",
    "    def forward(self, x):\n",
    "        x = self.flatten(x)\n",
    "        x = self.fc1(x)\n",
    "        x = self.bn1(x)\n",
    "        x = self.relu(x)\n",
    "        x = self.dropout(x)\n",
    "        x = self.fc2(x)\n",
    "        return x\n",
    "\n",
    "# Создание экземпляра модели\n",
    "model = MNISTClassifier()\n",
    "\n",
    "# Отображение summary модели\n",
    "print(model)\n"
   ]
  },
  {
   "cell_type": "code",
   "execution_count": 3,
   "metadata": {},
   "outputs": [],
   "source": [
    "# Определение функций потерь и оптимизатора\n",
    "criterion = nn.CrossEntropyLoss()\n",
    "optimizer = optim.Adam(model.parameters(), lr=0.001)\n",
    "\n",
    "# Обучающая функция\n",
    "def train(model, train_loader, optimizer, criterion):\n",
    "    model.train()\n",
    "    running_loss = 0.0\n",
    "    for data, target in train_loader:\n",
    "        optimizer.zero_grad()\n",
    "        output = model(data)\n",
    "        loss = criterion(output, target)\n",
    "        loss.backward()\n",
    "        optimizer.step()\n",
    "        running_loss += loss.item() * data.size(0)\n",
    "    train_loss = running_loss / len(train_loader.dataset)\n",
    "    return train_loss\n",
    "\n",
    "# Тестовая функция\n",
    "def test(model, test_loader, criterion):\n",
    "    model.eval()\n",
    "    running_loss = 0.0\n",
    "    correct_preds = 0\n",
    "    all_preds = []\n",
    "    true_labels = []\n",
    "    with torch.no_grad():\n",
    "        for data, target in test_loader:\n",
    "            output = model(data)\n",
    "            loss = criterion(output, target)\n",
    "            running_loss += loss.item() * data.size(0)\n",
    "            _, preds = torch.max(output, 1)\n",
    "            correct_preds += torch.sum(preds == target)\n",
    "            all_preds.extend(preds.tolist())\n",
    "            true_labels.extend(target.tolist())\n",
    "    test_loss = running_loss / len(test_loader.dataset)\n",
    "    accuracy = correct_preds.double() / len(test_loader.dataset)\n",
    "    precision = precision_score(true_labels, all_preds, average=\"macro\")\n",
    "    recall = recall_score(true_labels, all_preds, average=\"macro\")\n",
    "    f1 = f1_score(true_labels, all_preds, average=\"macro\")\n",
    "    return test_loss, accuracy, precision, recall, f1\n"
   ]
  },
  {
   "cell_type": "code",
   "execution_count": 4,
   "metadata": {},
   "outputs": [
    {
     "name": "stderr",
     "output_type": "stream",
     "text": [
      "  0%|          | 0/10 [00:00<?, ?it/s]"
     ]
    },
    {
     "name": "stderr",
     "output_type": "stream",
     "text": [
      "100%|██████████| 10/10 [03:13<00:00, 19.39s/it]\n"
     ]
    },
    {
     "data": {
      "image/png": "[encoded data removed]",
      "text/plain": [
       "<Figure size 1000x500 with 1 Axes>"
      ]
     },
     "metadata": {},
     "output_type": "display_data"
    },
    {
     "name": "stdout",
     "output_type": "stream",
     "text": [
      "            Test Loss                             Accuracy  Precision   \n",
      "Experiment                                                              \n",
      "1            0.149702  tensor(0.9573, dtype=torch.float64)   0.956972  \\\n",
      "2            0.107931  tensor(0.9686, dtype=torch.float64)   0.968769   \n",
      "3            0.094656  tensor(0.9723, dtype=torch.float64)   0.972221   \n",
      "4            0.084510  tensor(0.9745, dtype=torch.float64)   0.974438   \n",
      "5            0.080257  tensor(0.9760, dtype=torch.float64)   0.975935   \n",
      "6            0.078563  tensor(0.9762, dtype=torch.float64)   0.976309   \n",
      "7            0.073512  tensor(0.9771, dtype=torch.float64)   0.977056   \n",
      "8            0.072364  tensor(0.9776, dtype=torch.float64)   0.977525   \n",
      "9            0.072458  tensor(0.9784, dtype=torch.float64)   0.978360   \n",
      "10           0.072485  tensor(0.9780, dtype=torch.float64)   0.978046   \n",
      "\n",
      "              Recall  F1 Score  \n",
      "Experiment                      \n",
      "1           0.956898  0.956838  \n",
      "2           0.968388  0.968495  \n",
      "3           0.972153  0.972131  \n",
      "4           0.974280  0.974328  \n",
      "5           0.975763  0.975827  \n",
      "6           0.975799  0.975983  \n",
      "7           0.976911  0.976961  \n",
      "8           0.977498  0.977485  \n",
      "9           0.978142  0.978227  \n",
      "10          0.977869  0.977908  \n"
     ]
    }
   ],
   "source": [
    "# Обучение модели\n",
    "NUM_EPOCHS = 10\n",
    "train_loader = DataLoader(train_dataset, batch_size=64, shuffle=True)\n",
    "test_loader = DataLoader(test_dataset, batch_size=64, shuffle=False)\n",
    "train_losses = []\n",
    "test_losses = []\n",
    "accuracy_scores = []\n",
    "precision_scores = []\n",
    "recall_scores = []\n",
    "f1_scores = []\n",
    "\n",
    "for epoch in tqdm(range(NUM_EPOCHS)):\n",
    "    train_loss = train(model, train_loader, optimizer, criterion)\n",
    "    test_loss, accuracy, precision, recall, f1 = test(model, test_loader, criterion)\n",
    "    train_losses.append(train_loss)\n",
    "    test_losses.append(test_loss)\n",
    "    accuracy_scores.append(accuracy)\n",
    "    precision_scores.append(precision)\n",
    "    recall_scores.append(recall)\n",
    "    f1_scores.append(f1)\n",
    "\n",
    "# Построение графика\n",
    "plt.figure(figsize=(10, 5))\n",
    "plt.plot(range(1, NUM_EPOCHS + 1), train_losses, label=\"Train\")\n",
    "plt.plot(range(1, NUM_EPOCHS + 1), test_losses, label=\"Test\")\n",
    "plt.xlabel(\"Epochs\")\n",
    "plt.ylabel(\"Loss\")\n",
    "plt.title(\"Training and Validation Loss\")\n",
    "plt.legend()\n",
    "plt.show()\n",
    "\n",
    "# Вывод результатов\n",
    "results_table = {\n",
    "    \"Experiment\": list(range(1, NUM_EPOCHS + 1)),\n",
    "    \"Test Loss\": test_losses,\n",
    "    \"Accuracy\": accuracy_scores,\n",
    "    \"Precision\": precision_scores,\n",
    "    \"Recall\": recall_scores,\n",
    "    \"F1 Score\": f1_scores,\n",
    "}\n",
    "\n",
    "import pandas as pd\n",
    "\n",
    "results_df = pd.DataFrame(results_table)\n",
    "results_df.set_index(\"Experiment\", inplace=True)\n",
    "print(results_df)\n"
   ]
  },
  {
   "cell_type": "markdown",
   "metadata": {},
   "source": [
    "# Эксперимент с использованием сверточных слоев.\n",
    "# Эксперимент с увеличением числа слоев и добавлением Dropout и BatchNorm."
   ]
  },
  {
   "cell_type": "code",
   "execution_count": 5,
   "metadata": {},
   "outputs": [
    {
     "name": "stdout",
     "output_type": "stream",
     "text": [
      "CNNMNISTClassifier(\n",
      "  (conv1): Conv2d(1, 32, kernel_size=(3, 3), stride=(1, 1), padding=(1, 1))\n",
      "  (conv2): Conv2d(32, 64, kernel_size=(3, 3), stride=(1, 1), padding=(1, 1))\n",
      "  (pool): MaxPool2d(kernel_size=2, stride=2, padding=0, dilation=1, ceil_mode=False)\n",
      "  (fc1): Linear(in_features=3136, out_features=128, bias=True)\n",
      "  (fc2): Linear(in_features=128, out_features=10, bias=True)\n",
      "  (relu): ReLU()\n",
      "  (dropout): Dropout(p=0.2, inplace=False)\n",
      "  (bn1): BatchNorm2d(32, eps=1e-05, momentum=0.1, affine=True, track_running_stats=True)\n",
      "  (bn2): BatchNorm2d(64, eps=1e-05, momentum=0.1, affine=True, track_running_stats=True)\n",
      "  (bn3): BatchNorm1d(128, eps=1e-05, momentum=0.1, affine=True, track_running_stats=True)\n",
      ")\n"
     ]
    }
   ],
   "source": [
    "# Эксперимент 1: Использование сверточных слоев\n",
    "\n",
    "class CNNMNISTClassifier(nn.Module):\n",
    "    def __init__(self):\n",
    "        super(CNNMNISTClassifier, self).__init__()\n",
    "        self.conv1 = nn.Conv2d(1, 32, kernel_size=3, padding=1)\n",
    "        self.conv2 = nn.Conv2d(32, 64, kernel_size=3, padding=1)\n",
    "        self.pool = nn.MaxPool2d(2, 2)\n",
    "        self.fc1 = nn.Linear(64 * 7 * 7, 128)\n",
    "        self.fc2 = nn.Linear(128, 10)\n",
    "        self.relu = nn.ReLU()\n",
    "        self.dropout = nn.Dropout(0.2)\n",
    "        self.bn1 = nn.BatchNorm2d(32)\n",
    "        self.bn2 = nn.BatchNorm2d(64)\n",
    "        self.bn3 = nn.BatchNorm1d(128)\n",
    "\n",
    "    def forward(self, x):\n",
    "        x = self.conv1(x)\n",
    "        x = self.bn1(x)\n",
    "        x = self.relu(x)\n",
    "        x = self.pool(x)\n",
    "        x = self.conv2(x)\n",
    "        x = self.bn2(x)\n",
    "        x = self.relu(x)\n",
    "        x = self.pool(x)\n",
    "        x = torch.flatten(x, 1)\n",
    "        x = self.fc1(x)\n",
    "        x = self.bn3(x)\n",
    "        x = self.relu(x)\n",
    "        x = self.dropout(x)\n",
    "        x = self.fc2(x)\n",
    "        return x\n",
    "\n",
    "# Создание экземпляра модели\n",
    "cnn_model = CNNMNISTClassifier()\n",
    "\n",
    "# Отображение summary модели\n",
    "print(cnn_model)\n"
   ]
  },
  {
   "cell_type": "code",
   "execution_count": 6,
   "metadata": {},
   "outputs": [
    {
     "name": "stderr",
     "output_type": "stream",
     "text": [
      "  0%|          | 0/10 [00:00<?, ?it/s]"
     ]
    },
    {
     "name": "stderr",
     "output_type": "stream",
     "text": [
      "100%|██████████| 10/10 [19:39<00:00, 117.95s/it]\n"
     ]
    },
    {
     "data": {
      "image/png": "[encoded data removed]",
      "text/plain": [
       "<Figure size 1000x500 with 1 Axes>"
      ]
     },
     "metadata": {},
     "output_type": "display_data"
    },
    {
     "name": "stdout",
     "output_type": "stream",
     "text": [
      "            Test Loss                             Accuracy  Precision   \n",
      "Experiment                                                              \n",
      "1            0.033713  tensor(0.9899, dtype=torch.float64)   0.989970  \\\n",
      "2            0.032559  tensor(0.9894, dtype=torch.float64)   0.989251   \n",
      "3            0.025625  tensor(0.9921, dtype=torch.float64)   0.992140   \n",
      "4            0.026717  tensor(0.9904, dtype=torch.float64)   0.990357   \n",
      "5            0.025690  tensor(0.9927, dtype=torch.float64)   0.992714   \n",
      "6            0.022164  tensor(0.9929, dtype=torch.float64)   0.992884   \n",
      "7            0.022901  tensor(0.9926, dtype=torch.float64)   0.992543   \n",
      "8            0.025352  tensor(0.9927, dtype=torch.float64)   0.992766   \n",
      "9            0.023011  tensor(0.9928, dtype=torch.float64)   0.992878   \n",
      "10           0.025860  tensor(0.9917, dtype=torch.float64)   0.991743   \n",
      "\n",
      "              Recall  F1 Score  \n",
      "Experiment                      \n",
      "1           0.989690  0.989816  \n",
      "2           0.989259  0.989234  \n",
      "3           0.992017  0.992060  \n",
      "4           0.990344  0.990335  \n",
      "5           0.992592  0.992635  \n",
      "6           0.992862  0.992865  \n",
      "7           0.992497  0.992517  \n",
      "8           0.992545  0.992636  \n",
      "9           0.992737  0.992792  \n",
      "10          0.991601  0.991663  \n"
     ]
    }
   ],
   "source": [
    "# Обучение сверточной модели\n",
    "\n",
    "cnn_optimizer = optim.Adam(cnn_model.parameters(), lr=0.001)\n",
    "\n",
    "cnn_train_losses = []\n",
    "cnn_test_losses = []\n",
    "cnn_accuracy_scores = []\n",
    "cnn_precision_scores = []\n",
    "cnn_recall_scores = []\n",
    "cnn_f1_scores = []\n",
    "\n",
    "for epoch in tqdm(range(NUM_EPOCHS)):\n",
    "    cnn_train_loss = train(cnn_model, train_loader, cnn_optimizer, criterion)\n",
    "    cnn_test_loss, cnn_accuracy, cnn_precision, cnn_recall, cnn_f1 = test(cnn_model, test_loader, criterion)\n",
    "    cnn_train_losses.append(cnn_train_loss)\n",
    "    cnn_test_losses.append(cnn_test_loss)\n",
    "    cnn_accuracy_scores.append(cnn_accuracy)\n",
    "    cnn_precision_scores.append(cnn_precision)\n",
    "    cnn_recall_scores.append(cnn_recall)\n",
    "    cnn_f1_scores.append(cnn_f1)\n",
    "\n",
    "# Построение графика для сверточной модели\n",
    "plt.figure(figsize=(10, 5))\n",
    "plt.plot(range(1, NUM_EPOCHS + 1), cnn_train_losses, label=\"Train\")\n",
    "plt.plot(range(1, NUM_EPOCHS + 1), cnn_test_losses, label=\"Test\")\n",
    "plt.xlabel(\"Epochs\")\n",
    "plt.ylabel(\"Loss\")\n",
    "plt.title(\"Training and Validation Loss (CNN)\")\n",
    "plt.legend()\n",
    "plt.show()\n",
    "\n",
    "# Вывод результатов для сверточной модели\n",
    "cnn_results_table = {\n",
    "    \"Experiment\": list(range(1, NUM_EPOCHS + 1)),\n",
    "    \"Test Loss\": cnn_test_losses,\n",
    "    \"Accuracy\": cnn_accuracy_scores,\n",
    "    \"Precision\": cnn_precision_scores,\n",
    "    \"Recall\": cnn_recall_scores,\n",
    "    \"F1 Score\": cnn_f1_scores,\n",
    "}\n",
    "\n",
    "cnn_results_df = pd.DataFrame(cnn_results_table)\n",
    "cnn_results_df.set_index(\"Experiment\", inplace=True)\n",
    "print(cnn_results_df)\n"
   ]
  },
  {
   "cell_type": "code",
   "execution_count": 12,
   "metadata": {},
   "outputs": [
    {
     "name": "stdout",
     "output_type": "stream",
     "text": [
      "DeepMNISTClassifier(\n",
      "  (flatten): Flatten(start_dim=1, end_dim=-1)\n",
      "  (fc1): Linear(in_features=784, out_features=256, bias=True)\n",
      "  (fc2): Linear(in_features=256, out_features=128, bias=True)\n",
      "  (fc3): Linear(in_features=128, out_features=64, bias=True)\n",
      "  (fc4): Linear(in_features=64, out_features=10, bias=True)\n",
      "  (relu): ReLU()\n",
      "  (dropout1): Dropout(p=0.2, inplace=False)\n",
      "  (dropout2): Dropout(p=0.2, inplace=False)\n",
      "  (dropout3): Dropout(p=0.2, inplace=False)\n",
      "  (bn1): BatchNorm1d(256, eps=1e-05, momentum=0.1, affine=True, track_running_stats=True)\n",
      "  (bn2): BatchNorm1d(128, eps=1e-05, momentum=0.1, affine=True, track_running_stats=True)\n",
      "  (bn3): BatchNorm1d(64, eps=1e-05, momentum=0.1, affine=True, track_running_stats=True)\n",
      ")\n"
     ]
    }
   ],
   "source": [
    "# Эксперимент 2: Увеличение числа слоев и добавление Dropout и BatchNorm\n",
    "\n",
    "class DeepMNISTClassifier(nn.Module):\n",
    "    def __init__(self):\n",
    "        super(DeepMNISTClassifier, self).__init__()\n",
    "        self.flatten = nn.Flatten()\n",
    "        self.fc1 = nn.Linear(28 * 28, 256)\n",
    "        self.fc2 = nn.Linear(256, 128)\n",
    "        self.fc3 = nn.Linear(128, 64)\n",
    "        self.fc4 = nn.Linear(64, 10)\n",
    "        self.relu = nn.ReLU()\n",
    "        self.dropout1 = nn.Dropout(0.2)\n",
    "        self.dropout2 = nn.Dropout(0.2)\n",
    "        self.dropout3 = nn.Dropout(0.2)\n",
    "        self.bn1 = nn.BatchNorm1d(256)\n",
    "        self.bn2 = nn.BatchNorm1d(128)\n",
    "        self.bn3 = nn.BatchNorm1d(64)\n",
    "\n",
    "    def forward(self, x):\n",
    "        x = self.flatten(x)\n",
    "        x = self.fc1(x)\n",
    "        x = self.bn1(x)\n",
    "        x = self.relu(x)\n",
    "        x = self.dropout1(x)\n",
    "        x = self.fc2(x)\n",
    "        x = self.bn2(x)\n",
    "        x = self.relu(x)\n",
    "        x = self.dropout2(x)\n",
    "        x = self.fc3(x)\n",
    "        x = self.bn3(x)\n",
    "        x = self.relu(x)\n",
    "        x = self.dropout3(x)\n",
    "        x = self.fc4(x)\n",
    "        return x\n",
    "\n",
    "# Создание экземпляра модели\n",
    "deep_model = DeepMNISTClassifier()\n",
    "\n",
    "# Отображение summary модели\n",
    "print(deep_model)\n"
   ]
  },
  {
   "cell_type": "code",
   "execution_count": 13,
   "metadata": {},
   "outputs": [
    {
     "name": "stderr",
     "output_type": "stream",
     "text": [
      "100%|██████████| 10/10 [04:21<00:00, 26.18s/it]\n"
     ]
    },
    {
     "data": {
      "image/png": "[encoded data removed]",
      "text/plain": [
       "<Figure size 1000x500 with 1 Axes>"
      ]
     },
     "metadata": {},
     "output_type": "display_data"
    },
    {
     "name": "stdout",
     "output_type": "stream",
     "text": [
      "            Test Loss                             Accuracy  Precision   \n",
      "Experiment                                                              \n",
      "1            0.114469  tensor(0.9648, dtype=torch.float64)   0.964495  \\\n",
      "2            0.083733  tensor(0.9733, dtype=torch.float64)   0.973145   \n",
      "3            0.073988  tensor(0.9760, dtype=torch.float64)   0.976032   \n",
      "4            0.068865  tensor(0.9800, dtype=torch.float64)   0.980013   \n",
      "5            0.060740  tensor(0.9812, dtype=torch.float64)   0.981012   \n",
      "6            0.059899  tensor(0.9809, dtype=torch.float64)   0.981060   \n",
      "7            0.052870  tensor(0.9830, dtype=torch.float64)   0.982932   \n",
      "8            0.062035  tensor(0.9814, dtype=torch.float64)   0.981257   \n",
      "9            0.057478  tensor(0.9819, dtype=torch.float64)   0.981971   \n",
      "10           0.057085  tensor(0.9832, dtype=torch.float64)   0.983198   \n",
      "\n",
      "              Recall  F1 Score  \n",
      "Experiment                      \n",
      "1           0.964347  0.964306  \n",
      "2           0.973218  0.973151  \n",
      "3           0.975710  0.975805  \n",
      "4           0.979774  0.979876  \n",
      "5           0.981100  0.981038  \n",
      "6           0.980699  0.980822  \n",
      "7           0.982902  0.982909  \n",
      "8           0.981290  0.981233  \n",
      "9           0.981776  0.981847  \n",
      "10          0.983001  0.983089  \n"
     ]
    }
   ],
   "source": [
    "# Обучение модели с увеличенным числом слоев и Dropout и BatchNorm\n",
    "\n",
    "deep_optimizer = optim.Adam(deep_model.parameters(), lr=0.001)\n",
    "\n",
    "deep_train_losses = []\n",
    "deep_test_losses = []\n",
    "deep_accuracy_scores = []\n",
    "deep_precision_scores = []\n",
    "deep_recall_scores = []\n",
    "deep_f1_scores = []\n",
    "\n",
    "for epoch in tqdm(range(NUM_EPOCHS)):\n",
    "    deep_train_loss = train(deep_model, train_loader, deep_optimizer, criterion)\n",
    "    deep_test_loss, deep_accuracy, deep_precision, deep_recall, deep_f1 = test(deep_model, test_loader, criterion)\n",
    "    deep_train_losses.append(deep_train_loss)\n",
    "    deep_test_losses.append(deep_test_loss)\n",
    "    deep_accuracy_scores.append(deep_accuracy)\n",
    "    deep_precision_scores.append(deep_precision)\n",
    "    deep_recall_scores.append(deep_recall)\n",
    "    deep_f1_scores.append(deep_f1)\n",
    "\n",
    "# Построение графика для модели с увеличенным числом слоев\n",
    "plt.figure(figsize=(10, 5))\n",
    "plt.plot(range(1, NUM_EPOCHS + 1), deep_train_losses, label=\"Train\")\n",
    "plt.plot(range(1, NUM_EPOCHS + 1), deep_test_losses, label=\"Test\")\n",
    "plt.xlabel(\"Epochs\")\n",
    "plt.ylabel(\"Loss\")\n",
    "plt.title(\"Training and Validation Loss (Deep Model)\")\n",
    "plt.legend()\n",
    "plt.show()\n",
    "\n",
    "deep_results_table = {\n",
    "    \"Experiment\": list(range(1, NUM_EPOCHS + 1)),\n",
    "    \"Test Loss\": deep_test_losses,\n",
    "    \"Accuracy\": deep_accuracy_scores,\n",
    "    \"Precision\": deep_precision_scores,\n",
    "    \"Recall\": deep_recall_scores,\n",
    "    \"F1 Score\": deep_f1_scores,\n",
    "}\n",
    "\n",
    "deep_results_df = pd.DataFrame(deep_results_table)\n",
    "deep_results_df.set_index(\"Experiment\", inplace=True)\n",
    "print(deep_results_df)\n"
   ]
  },
  {
   "cell_type": "markdown",
   "metadata": {},
   "source": [
    "## Первая модель:"
   ]
  },
  {
   "cell_type": "code",
   "execution_count": 14,
   "metadata": {},
   "outputs": [
    {
     "name": "stdout",
     "output_type": "stream",
     "text": [
      "            Test Loss                             Accuracy  Precision   \n",
      "Experiment                                                              \n",
      "1            0.033713  tensor(0.9899, dtype=torch.float64)   0.989970  \\\n",
      "2            0.032559  tensor(0.9894, dtype=torch.float64)   0.989251   \n",
      "3            0.025625  tensor(0.9921, dtype=torch.float64)   0.992140   \n",
      "4            0.026717  tensor(0.9904, dtype=torch.float64)   0.990357   \n",
      "5            0.025690  tensor(0.9927, dtype=torch.float64)   0.992714   \n",
      "6            0.022164  tensor(0.9929, dtype=torch.float64)   0.992884   \n",
      "7            0.022901  tensor(0.9926, dtype=torch.float64)   0.992543   \n",
      "8            0.025352  tensor(0.9927, dtype=torch.float64)   0.992766   \n",
      "9            0.023011  tensor(0.9928, dtype=torch.float64)   0.992878   \n",
      "10           0.025860  tensor(0.9917, dtype=torch.float64)   0.991743   \n",
      "\n",
      "              Recall  F1 Score  \n",
      "Experiment                      \n",
      "1           0.989690  0.989816  \n",
      "2           0.989259  0.989234  \n",
      "3           0.992017  0.992060  \n",
      "4           0.990344  0.990335  \n",
      "5           0.992592  0.992635  \n",
      "6           0.992862  0.992865  \n",
      "7           0.992497  0.992517  \n",
      "8           0.992545  0.992636  \n",
      "9           0.992737  0.992792  \n",
      "10          0.991601  0.991663  \n"
     ]
    }
   ],
   "source": [
    "print(cnn_results_df)"
   ]
  },
  {
   "cell_type": "markdown",
   "metadata": {},
   "source": [
    "## Вторая модель:"
   ]
  },
  {
   "cell_type": "code",
   "execution_count": 15,
   "metadata": {},
   "outputs": [
    {
     "name": "stdout",
     "output_type": "stream",
     "text": [
      "            Test Loss                             Accuracy  Precision   \n",
      "Experiment                                                              \n",
      "1            0.114469  tensor(0.9648, dtype=torch.float64)   0.964495  \\\n",
      "2            0.083733  tensor(0.9733, dtype=torch.float64)   0.973145   \n",
      "3            0.073988  tensor(0.9760, dtype=torch.float64)   0.976032   \n",
      "4            0.068865  tensor(0.9800, dtype=torch.float64)   0.980013   \n",
      "5            0.060740  tensor(0.9812, dtype=torch.float64)   0.981012   \n",
      "6            0.059899  tensor(0.9809, dtype=torch.float64)   0.981060   \n",
      "7            0.052870  tensor(0.9830, dtype=torch.float64)   0.982932   \n",
      "8            0.062035  tensor(0.9814, dtype=torch.float64)   0.981257   \n",
      "9            0.057478  tensor(0.9819, dtype=torch.float64)   0.981971   \n",
      "10           0.057085  tensor(0.9832, dtype=torch.float64)   0.983198   \n",
      "\n",
      "              Recall  F1 Score  \n",
      "Experiment                      \n",
      "1           0.964347  0.964306  \n",
      "2           0.973218  0.973151  \n",
      "3           0.975710  0.975805  \n",
      "4           0.979774  0.979876  \n",
      "5           0.981100  0.981038  \n",
      "6           0.980699  0.980822  \n",
      "7           0.982902  0.982909  \n",
      "8           0.981290  0.981233  \n",
      "9           0.981776  0.981847  \n",
      "10          0.983001  0.983089  \n"
     ]
    }
   ],
   "source": [
    "print(deep_results_df)"
   ]
  },
  {
   "cell_type": "markdown",
   "metadata": {},
   "source": [
    "Эксперимент №1, Train и Test довольно близки (в 4 поколении сходяться). Также ошибка Test держится на одном уровне. <br>\n",
    "Эксперимент №2, Train и Test начинают сходиться в 8 поколении. <br>\n",
    "У CNN стабильно держится ошибка от 0.02 до 0.04, а у второй же модели со 2-го поколения ошибка остаётся между 0.10 и 0.05<br>\n",
    "Вывод: CNN для данной задачи лучше подходит, чем модель второго эксперимента."
   ]
  }
 ],
 "metadata": {
  "kernelspec": {
   "display_name": "Python 3",
   "language": "python",
   "name": "python3"
  },
  "language_info": {
   "codemirror_mode": {
    "name": "ipython",
    "version": 3
   },
   "file_extension": ".py",
   "mimetype": "text/x-python",
   "name": "python",
   "nbconvert_exporter": "python",
   "pygments_lexer": "ipython3",
   "version": "3.10.8"
  }
 },
 "nbformat": 4,
 "nbformat_minor": 2
}
